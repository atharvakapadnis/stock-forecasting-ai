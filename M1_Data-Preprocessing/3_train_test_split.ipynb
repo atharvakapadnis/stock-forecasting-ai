{
 "cells": [
  {
   "cell_type": "code",
   "execution_count": 16,
   "metadata": {},
   "outputs": [],
   "source": [
    "import pandas as pd\n",
    "from sklearn.model_selection import train_test_split"
   ]
  },
  {
   "cell_type": "code",
   "execution_count": 17,
   "metadata": {},
   "outputs": [],
   "source": [
    "# Load the feature-engineered datasets\n",
    "\n",
    "nvidia_df = pd.read_csv('../data/nvidia_stock_features_selected.csv', parse_dates=['Date'], index_col='Date')\n",
    "microsoft_df = pd.read_csv('../data/microsoft_stock_features_selected.csv', parse_dates=['Date'], index_col='Date')\n",
    "apple_df = pd.read_csv('../data/apple_stock_features_selected.csv', parse_dates=['Date'], index_col='Date')"
   ]
  },
  {
   "cell_type": "markdown",
   "metadata": {},
   "source": [
    "Since we aim to look at multiple modelling approaches, we will structure our splits accordingly.\n",
    "\n",
    "**Feature:**\n",
    "- `Open`,`High`,`Low`,`Close`,`Volume`,`SMA_20`,`SMA_50`,`SMA_200`,`EMA_20`,`EMA_50`,`EMA_200`\n",
    "\n",
    "**Target:**\n",
    "- `Future_Return_5d`"
   ]
  },
  {
   "cell_type": "code",
   "execution_count": 18,
   "metadata": {},
   "outputs": [],
   "source": [
    "# Defining feature columns\n",
    "\n",
    "feature_cols = ['Open','High','Low','Close','Volume','SMA_20','SMA_50','SMA_200','EMA_20','EMA_50','EMA_200']\n",
    "\n",
    "target_col = ['Future_Return_5d']"
   ]
  },
  {
   "cell_type": "code",
   "execution_count": 19,
   "metadata": {},
   "outputs": [],
   "source": [
    "# Extract features and target\n",
    "\n",
    "X_nvidia, y_nvidia = nvidia_df[feature_cols], nvidia_df[target_col]\n",
    "X_microsoft, y_microsoft = microsoft_df[feature_cols], microsoft_df[target_col]\n",
    "X_apple, y_apple = apple_df[feature_cols], apple_df[target_col]"
   ]
  },
  {
   "cell_type": "markdown",
   "metadata": {},
   "source": [
    "Since time series data required chronological order, we do not shuffle the data. We simply split on data ranges."
   ]
  },
  {
   "cell_type": "code",
   "execution_count": 20,
   "metadata": {},
   "outputs": [],
   "source": [
    "# Function for time-based train-test split\n",
    "\n",
    "def time_series_split(X, y, train_size=0.8):\n",
    "    split_index = int(len(X)* train_size)\n",
    "    X_train, X_test = X.iloc[:split_index], X.iloc[split_index:]\n",
    "    y_train, y_test = y.iloc[:split_index], y.iloc[split_index:]\n",
    "    return X_train, X_test, y_train, y_test\n",
    "\n",
    "# Apply split to each stock\n",
    "X_train_nvidia, X_test_nvidia, y_train_nvidia, y_test_nvidia = time_series_split(X_nvidia, y_nvidia)\n",
    "X_train_microsoft, X_test_microsoft, y_train_microsoft, y_test_microsoft = time_series_split(X_microsoft, y_microsoft)\n",
    "X_train_apple, X_test_apple, y_train_apple, y_test_apple = time_series_split(X_apple, y_apple)"
   ]
  },
  {
   "cell_type": "code",
   "execution_count": 21,
   "metadata": {},
   "outputs": [
    {
     "name": "stdout",
     "output_type": "stream",
     "text": [
      "Train-test datasets saved.\n"
     ]
    }
   ],
   "source": [
    "# Save NVIDIA train-test data\n",
    "X_train_nvidia.to_csv(\"../data/tt_splits/X_train_nvidia.csv\", index=True)\n",
    "X_test_nvidia.to_csv(\"../data/tt_splits/X_test_nvidia.csv\", index=True)\n",
    "y_train_nvidia.to_csv(\"../data/tt_splits/y_train_nvidia.csv\", index=True)\n",
    "y_test_nvidia.to_csv(\"../data/tt_splits/y_test_nvidia.csv\", index=True)\n",
    "\n",
    "# Save Microsoft train-test data\n",
    "X_train_microsoft.to_csv(\"../data/tt_splits/X_train_microsoft.csv\", index=True)\n",
    "X_test_microsoft.to_csv(\"../data/tt_splits/X_test_microsoft.csv\", index=True)\n",
    "y_train_microsoft.to_csv(\"../data/tt_splits/y_train_microsoft.csv\", index=True)\n",
    "y_test_microsoft.to_csv(\"../data/tt_splits/y_test_microsoft.csv\", index=True)\n",
    "\n",
    "# Save Apple train-test data\n",
    "X_train_apple.to_csv(\"../data/tt_splits/X_train_apple.csv\", index=True)\n",
    "X_test_apple.to_csv(\"../data/tt_splits/X_test_apple.csv\", index=True)\n",
    "y_train_apple.to_csv(\"../data/tt_splits/y_train_apple.csv\", index=True)\n",
    "y_test_apple.to_csv(\"../data/tt_splits/y_test_apple.csv\", index=True)\n",
    "\n",
    "print(\"Train-test datasets saved.\")"
   ]
  }
 ],
 "metadata": {
  "kernelspec": {
   "display_name": "ds_env",
   "language": "python",
   "name": "python3"
  },
  "language_info": {
   "codemirror_mode": {
    "name": "ipython",
    "version": 3
   },
   "file_extension": ".py",
   "mimetype": "text/x-python",
   "name": "python",
   "nbconvert_exporter": "python",
   "pygments_lexer": "ipython3",
   "version": "3.9.21"
  }
 },
 "nbformat": 4,
 "nbformat_minor": 2
}
